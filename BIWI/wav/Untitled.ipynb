{
 "cells": [
  {
   "cell_type": "code",
   "execution_count": 1,
   "id": "5544c15a",
   "metadata": {},
   "outputs": [
    {
     "data": {
      "text/plain": [
       "4.344943310657596"
      ]
     },
     "execution_count": 1,
     "metadata": {},
     "output_type": "execute_result"
    }
   ],
   "source": [
    "import librosa\n",
    "import os\n"
   ]
  },
  {
   "cell_type": "code",
   "execution_count": 3,
   "id": "9a67c8dd",
   "metadata": {},
   "outputs": [
    {
     "name": "stdout",
     "output_type": "stream",
     "text": [
      "1088\n",
      "total duration of the audio files is:  4773.791428571431  seconds\n",
      "Average duration of the audio files is:  4.387675945378154  seconds\n",
      "\n",
      "total duration of the neutral audio files is:  2362.399274376419  seconds\n",
      "Average duration of the neutral audio files is:  4.279708830392063  seconds\n",
      "\n",
      "total duration of emotional the audio files is:  2411.392154195011  seconds\n",
      "Average duration of the emotional audio files is:  8.906327292110879  seconds\n",
      "\n"
     ]
    }
   ],
   "source": [
    "import librosa\n",
    "import os\n",
    "\n",
    "\n",
    "totalDuration = 0\n",
    "totalNeutral = 0\n",
    "totalEmo = 0\n",
    "n_count = 0\n",
    "e_count = 0\n",
    "\n",
    "files = [f for f in os.listdir('.') if os.path.isfile(f) and f.endswith(\"wav\")]\n",
    "print(len(files))\n",
    "\n",
    "for f in files:\n",
    "#     print(f)\n",
    "    sen_no = int((f.split(\".\")[0]).split(\"_\")[1])\n",
    "#     print(sen_no)\n",
    "    \n",
    "    y,sr = librosa.load(f)\n",
    "    dur = librosa.get_duration(y,sr)\n",
    "    totalDuration = totalDuration + dur\n",
    "    \n",
    "    if sen_no <41:\n",
    "        totalNeutral += dur\n",
    "        n_count += 1\n",
    "        \n",
    "    elif sen_no>40:\n",
    "        totalEmo += dur\n",
    "        e_count += 1\n",
    "\n",
    "print(\"total duration of the audio files is: \", totalDuration, \" seconds\")\n",
    "print(\"Average duration of the audio files is: \", totalDuration/len(files), \" seconds\\n\")\n",
    "\n",
    "print(\"total duration of the neutral audio files is: \", totalNeutral, \" seconds\")\n",
    "print(\"Average duration of the neutral audio files is: \", totalNeutral/n_count, \" seconds\\n\")\n",
    "\n",
    "print(\"total duration of emotional the audio files is: \", totalEmo, \" seconds\")\n",
    "print(\"Average duration of the emotional audio files is: \", totalDuration/e_count, \" seconds\\n\")"
   ]
  },
  {
   "cell_type": "code",
   "execution_count": 6,
   "id": "132d1b28",
   "metadata": {},
   "outputs": [],
   "source": [
    "durInHours = totalDuration/3600"
   ]
  },
  {
   "cell_type": "code",
   "execution_count": 7,
   "id": "cd9c0822",
   "metadata": {},
   "outputs": [
    {
     "data": {
      "text/plain": [
       "1.3260531746031754"
      ]
     },
     "execution_count": 7,
     "metadata": {},
     "output_type": "execute_result"
    }
   ],
   "source": [
    "durInHours"
   ]
  },
  {
   "cell_type": "code",
   "execution_count": 10,
   "id": "9d3a7f29",
   "metadata": {},
   "outputs": [
    {
     "data": {
      "text/plain": [
       "44100"
      ]
     },
     "execution_count": 10,
     "metadata": {},
     "output_type": "execute_result"
    }
   ],
   "source": [
    "y,sr = librosa.load(\"F1_01.wav\", sr=None)\n",
    "sr"
   ]
  },
  {
   "cell_type": "code",
   "execution_count": 12,
   "id": "aa97a846",
   "metadata": {},
   "outputs": [
    {
     "name": "stdout",
     "output_type": "stream",
     "text": [
      "4773.77931972789\n",
      "1.326049811035525\n"
     ]
    }
   ],
   "source": [
    "totalDuration = 0\n",
    "files = [f for f in os.listdir('.') if os.path.isfile(f) and f.endswith(\"wav\")]\n",
    "for f in files:\n",
    "#     print(f)\n",
    "    y,sr = librosa.load(f,sr=None)\n",
    "    dur = librosa.get_duration(y,sr)\n",
    "    totalDuration = totalDuration + dur\n",
    "\n",
    "print(totalDuration)\n",
    "print(totalDuration/3600)"
   ]
  },
  {
   "cell_type": "code",
   "execution_count": null,
   "id": "953beadb",
   "metadata": {},
   "outputs": [],
   "source": []
  }
 ],
 "metadata": {
  "kernelspec": {
   "display_name": "Python 3 (ipykernel)",
   "language": "python",
   "name": "python3"
  },
  "language_info": {
   "codemirror_mode": {
    "name": "ipython",
    "version": 3
   },
   "file_extension": ".py",
   "mimetype": "text/x-python",
   "name": "python",
   "nbconvert_exporter": "python",
   "pygments_lexer": "ipython3",
   "version": "3.8.12"
  }
 },
 "nbformat": 4,
 "nbformat_minor": 5
}
